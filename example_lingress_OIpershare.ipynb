{
 "cells": [
  {
   "cell_type": "code",
   "execution_count": 133,
   "metadata": {},
   "outputs": [],
   "source": [
    "import yfinance as yf\n",
    "import pandas as pd\n",
    "import numpy as np\n",
    "from datetime import date\n",
    "import matplotlib as plt"
   ]
  },
  {
   "cell_type": "code",
   "execution_count": 134,
   "metadata": {},
   "outputs": [
    {
     "data": {
      "text/html": [
       "<div>\n",
       "<style scoped>\n",
       "    .dataframe tbody tr th:only-of-type {\n",
       "        vertical-align: middle;\n",
       "    }\n",
       "\n",
       "    .dataframe tbody tr th {\n",
       "        vertical-align: top;\n",
       "    }\n",
       "\n",
       "    .dataframe thead th {\n",
       "        text-align: right;\n",
       "    }\n",
       "</style>\n",
       "<table border=\"1\" class=\"dataframe\">\n",
       "  <thead>\n",
       "    <tr style=\"text-align: right;\">\n",
       "      <th></th>\n",
       "      <th>ticker</th>\n",
       "      <th>market</th>\n",
       "      <th>date_pulling</th>\n",
       "    </tr>\n",
       "  </thead>\n",
       "  <tbody>\n",
       "    <tr>\n",
       "      <th>0</th>\n",
       "      <td>24CS.bk</td>\n",
       "      <td>mai</td>\n",
       "      <td>2024-09-19</td>\n",
       "    </tr>\n",
       "    <tr>\n",
       "      <th>1</th>\n",
       "      <td>2S.bk</td>\n",
       "      <td>SET</td>\n",
       "      <td>2024-09-19</td>\n",
       "    </tr>\n",
       "    <tr>\n",
       "      <th>2</th>\n",
       "      <td>3BBIF.bk</td>\n",
       "      <td>SET</td>\n",
       "      <td>2024-09-19</td>\n",
       "    </tr>\n",
       "    <tr>\n",
       "      <th>3</th>\n",
       "      <td>3K-BAT.bk</td>\n",
       "      <td>SET</td>\n",
       "      <td>2024-09-19</td>\n",
       "    </tr>\n",
       "    <tr>\n",
       "      <th>4</th>\n",
       "      <td>A.bk</td>\n",
       "      <td>SET</td>\n",
       "      <td>2024-09-19</td>\n",
       "    </tr>\n",
       "    <tr>\n",
       "      <th>...</th>\n",
       "      <td>...</td>\n",
       "      <td>...</td>\n",
       "      <td>...</td>\n",
       "    </tr>\n",
       "    <tr>\n",
       "      <th>916</th>\n",
       "      <td>YONG.bk</td>\n",
       "      <td>mai</td>\n",
       "      <td>2024-09-19</td>\n",
       "    </tr>\n",
       "    <tr>\n",
       "      <th>917</th>\n",
       "      <td>YUASA.bk</td>\n",
       "      <td>mai</td>\n",
       "      <td>2024-09-19</td>\n",
       "    </tr>\n",
       "    <tr>\n",
       "      <th>918</th>\n",
       "      <td>ZAA.bk</td>\n",
       "      <td>SET</td>\n",
       "      <td>2024-09-19</td>\n",
       "    </tr>\n",
       "    <tr>\n",
       "      <th>919</th>\n",
       "      <td>ZEN.bk</td>\n",
       "      <td>SET</td>\n",
       "      <td>2024-09-19</td>\n",
       "    </tr>\n",
       "    <tr>\n",
       "      <th>920</th>\n",
       "      <td>ZIGA.bk</td>\n",
       "      <td>mai</td>\n",
       "      <td>2024-09-19</td>\n",
       "    </tr>\n",
       "  </tbody>\n",
       "</table>\n",
       "<p>921 rows × 3 columns</p>\n",
       "</div>"
      ],
      "text/plain": [
       "        ticker market date_pulling\n",
       "0      24CS.bk    mai   2024-09-19\n",
       "1        2S.bk    SET   2024-09-19\n",
       "2     3BBIF.bk    SET   2024-09-19\n",
       "3    3K-BAT.bk    SET   2024-09-19\n",
       "4         A.bk    SET   2024-09-19\n",
       "..         ...    ...          ...\n",
       "916    YONG.bk    mai   2024-09-19\n",
       "917   YUASA.bk    mai   2024-09-19\n",
       "918     ZAA.bk    SET   2024-09-19\n",
       "919     ZEN.bk    SET   2024-09-19\n",
       "920    ZIGA.bk    mai   2024-09-19\n",
       "\n",
       "[921 rows x 3 columns]"
      ]
     },
     "execution_count": 134,
     "metadata": {},
     "output_type": "execute_result"
    }
   ],
   "source": [
    "## To acquire stock list in thailand ###\n",
    "ex = pd.read_excel('update_data/stock_info_th.xlsx', sheet_name='listedCompanies_th_TH',skiprows=1)\n",
    "df = pd.DataFrame(ex['หลักทรัพย์'].astype('str') + '.bk')\n",
    "df['market'] = ex['ตลาด']\n",
    "df = df.rename(columns={'หลักทรัพย์' : 'ticker'})\n",
    "df = df.reset_index(drop=True)\n",
    "\n",
    "# 1st pulling date for this data #\n",
    "df['date_pulling'] = date.today()\n",
    "df"
   ]
  },
  {
   "cell_type": "code",
   "execution_count": 135,
   "metadata": {},
   "outputs": [
    {
     "name": "stdout",
     "output_type": "stream",
     "text": [
      "3.5625518936802996 5\n"
     ]
    }
   ],
   "source": [
    "### Create a ratio called Operating Income/basic share ######\n",
    "\n",
    "# 2nd acquiring information from .info #\n",
    "def yfinance_normalised_OI_index(ticker,property):\n",
    "    ### Get data from .financials and .quaterly_financials ####\n",
    "    try:\n",
    "        data_financials = yf.Ticker(ticker).financials.loc[yf.Ticker(ticker).financials.index == property].dropna(axis = 1, how = 'all')\n",
    "        data_financials = data_financials.T\n",
    "        # print(data_financials)\n",
    "        \n",
    "        data_quaterly_financials = yf.Ticker(ticker).quarterly_financials.loc[yf.Ticker(ticker).quarterly_financials.index == property].dropna(axis = 1, how = 'all')\n",
    "        list_col = data_quaterly_financials.columns\n",
    "        data_quaterly_financials = data_quaterly_financials.reset_index()\n",
    "        data_quaterly_financials['ttm'] = 0\n",
    "        if len(list_col) >=4 :\n",
    "            ttm_period = 4\n",
    "        else : ttm_period = len(list_col)\n",
    "        for i in range(ttm_period): \n",
    "            data_quaterly_financials['ttm'] = data_quaterly_financials['ttm'] + data_quaterly_financials[list_col[i]]\n",
    "        data_quaterly_financials = data_quaterly_financials.set_index('index')\n",
    "        data_quaterly_financials = data_quaterly_financials.T\n",
    "        # print(data_quaterly_financials.loc[data_quaterly_financials.index == 'ttm'])\n",
    "              \n",
    "        data = pd.concat([data_quaterly_financials.loc[data_quaterly_financials.index == 'ttm'],data_financials])\n",
    "\n",
    "        minval = data[property].astype('float64').min()\n",
    "        maxval = data[property].astype('float64').max()\n",
    "        numofyear = len(data[property])\n",
    "        data[property] = ( data[property] - minval ) / (maxval - minval)\n",
    "        \n",
    "        #### Calculate beta ###\n",
    "        data.reset_index(inplace=True)\n",
    "        data = data.rename(columns = {'index':'time'})\n",
    "        data.reset_index(inplace=True)\n",
    "        data = data.sort_values('index',ascending=False)\n",
    "        data = data.drop(columns = 'index')\n",
    "        data.reset_index(inplace=True,drop = True)\n",
    "        beta, alpha = np.polyfit(np.array(data[property]).astype('float64'), np.array(data.index).astype('float64'),1)\n",
    "        # data[property].plot()\n",
    "        return beta , numofyear\n",
    "    except: \n",
    "        return None\n",
    "\n",
    "    \n",
    "\n",
    "data , num = yfinance_normalised_OI_index('MEGA.BK','Operating Income')\n",
    "print(data, num)"
   ]
  },
  {
   "cell_type": "code",
   "execution_count": 136,
   "metadata": {},
   "outputs": [
    {
     "name": "stdout",
     "output_type": "stream",
     "text": [
      "0.27391790032544266\n"
     ]
    }
   ],
   "source": [
    "#### Calculate ROIC #####\n",
    "def yfinance_average_ROI(ticker,property) :\n",
    "    try:\n",
    "        investedcapital = yf.Ticker(ticker).balance_sheet.dropna(axis = 1, how = 'all')\n",
    "        investedcapital = investedcapital.T\n",
    "        investedcapital = investedcapital['Invested Capital']\n",
    "\n",
    "        earninngs = yf.Ticker(ticker).financials.dropna(axis = 1, how = 'all')\n",
    "        earninngs = earninngs.T\n",
    "        earninngs = earninngs[property]\n",
    "\n",
    "        data = pd.DataFrame()\n",
    "        data['Invested Capital'] = investedcapital\n",
    "        data[property] = earninngs\n",
    "        data = data.dropna()\n",
    "        data['avg_MF_ROC'] = data[property]/data['Invested Capital']\n",
    "        avg_MF_ROC = data['avg_MF_ROC'].mean()\n",
    "        return avg_MF_ROC\n",
    "    except:\n",
    "        return None\n",
    "\n",
    "\n",
    "print(yfinance_average_ROI('MEGA.BK','Operating Income'))"
   ]
  },
  {
   "cell_type": "code",
   "execution_count": 137,
   "metadata": {},
   "outputs": [
    {
     "name": "stdout",
     "output_type": "stream",
     "text": [
      "4.000000000000001 -1.1102230246251565e-16\n"
     ]
    },
    {
     "data": {
      "text/plain": [
       "<Axes: >"
      ]
     },
     "execution_count": 137,
     "metadata": {},
     "output_type": "execute_result"
    },
    {
     "data": {
      "image/png": "[encoded data removed]",
      "text/plain": [
       "<Figure size 640x480 with 1 Axes>"
      ]
     },
     "metadata": {},
     "output_type": "display_data"
    }
   ],
   "source": [
    "y = [0,0.25,0.5,0.75]\n",
    "data = pd.DataFrame()\n",
    "data['y'] = y\n",
    "beta, alpha = np.polyfit(data['y'], data.index, 1)\n",
    "print(beta, alpha)\n",
    "\n",
    "data.plot()"
   ]
  }
 ],
 "metadata": {
  "kernelspec": {
   "display_name": "env",
   "language": "python",
   "name": "python3"
  },
  "language_info": {
   "codemirror_mode": {
    "name": "ipython",
    "version": 3
   },
   "file_extension": ".py",
   "mimetype": "text/x-python",
   "name": "python",
   "nbconvert_exporter": "python",
   "pygments_lexer": "ipython3",
   "version": "3.11.9"
  }
 },
 "nbformat": 4,
 "nbformat_minor": 2
}
